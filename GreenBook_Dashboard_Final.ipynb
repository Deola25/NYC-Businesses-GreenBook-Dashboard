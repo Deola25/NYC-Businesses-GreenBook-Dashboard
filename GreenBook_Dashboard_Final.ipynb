{
 "cells": [
  {
   "cell_type": "markdown",
   "metadata": {},
   "source": [
    "# GREENBOOK DASHBOARD"
   ]
  },
  {
   "cell_type": "markdown",
   "metadata": {},
   "source": [
    "### This dashboard filters the greenbook businesses by their categories and/or neighborhood"
   ]
  },
  {
   "cell_type": "code",
   "execution_count": 56,
   "metadata": {
    "hide_input": true
   },
   "outputs": [
    {
     "data": {
      "application/vnd.jupyter.widget-view+json": {
       "model_id": "d5e7343c8ace476ab25acb91406708b5",
       "version_major": 2,
       "version_minor": 0
      },
      "text/plain": [
       "VBox(children=(HBox(children=(Dropdown(description='Category', options=('ALL', 'Auto', 'Auto Loan', 'Auto Shop…"
      ]
     },
     "metadata": {},
     "output_type": "display_data"
    }
   ],
   "source": [
    "import pandas as pd\n",
    "import ipywidgets as widgets\n",
    "\n",
    "import seaborn as sns\n",
    "import matplotlib.pyplot as plt\n",
    "\n",
    "df = pd.read_excel('https://raw.githubusercontent.com/Deola25/Green-Book-Dashboard/main/Greenbook_Businesses_csv.csv')\n",
    "df['Neighborhood']=df['Neighborhood'].astype(str)\n",
    "\n",
    "ALL = 'ALL'\n",
    "def unique_sorted_values_plus_ALL(array):\n",
    "    unique = array.unique().tolist()\n",
    "    unique.sort()\n",
    "    unique.insert(0, ALL)\n",
    "    return unique\n",
    "\n",
    "output= widgets.Output()\n",
    "plot_output = widgets.Output()\n",
    "\n",
    "dropdown_Category= widgets.Dropdown(options = unique_sorted_values_plus_ALL(df.Category),description='Category')\n",
    "dropdown_Neighborhood= widgets.Dropdown(options = unique_sorted_values_plus_ALL(df.Neighborhood), description= 'NHood')\n",
    "\n",
    "def common_filtering(Category, Neighborhood):\n",
    "    output.clear_output()\n",
    "    plot_output.clear_output()\n",
    "    \n",
    "    if (Category==ALL) & (Neighborhood ==ALL):\n",
    "        common_filter = df\n",
    "    elif (Category==ALL):\n",
    "        common_filter = df[df.Neighborhood==Neighborhood]\n",
    "    elif (Neighborhood==ALL):\n",
    "        common_filter = df[df.Category==Category]\n",
    "    else:\n",
    "        common_filter = df[(df.Category==Category) & (df.Neighborhood==Neighborhood)]\n",
    "        \n",
    "    with output:\n",
    "        display(common_filter)\n",
    "\n",
    "    with plot_output:\n",
    "        sns.catplot(data= common_filter, x='HOLC Grade',kind=\"count\", order= ['A','B','C','D','Outside Zone'] )\n",
    "        plt.show()\n",
    "        \n",
    "        \n",
    "def dropdown_year_eventhandler(change):\n",
    "    common_filtering(change.new, dropdown_Neighborhood.value)\n",
    "    \n",
    "def dropdown_Neighborhood_eventhandler(change):\n",
    "    common_filtering(dropdown_Category.value, change.new)\n",
    "    \n",
    "dropdown_Category.observe(dropdown_year_eventhandler, names='value')\n",
    "dropdown_Neighborhood.observe(dropdown_Neighborhood_eventhandler, names='value')\n",
    "\n",
    "#display(dropdown_Category)\n",
    "#display(dropdown_Neighborhood)\n",
    "\n",
    "#display (output)\n",
    "#display(plot_output)\n",
    "\n",
    "input_widgets = widgets.HBox(\n",
    "[dropdown_Category, dropdown_Neighborhood])\n",
    "#display(input_widgets)\n",
    "\n",
    "tab = widgets.Tab([output, plot_output])\n",
    "tab.set_title(0, 'Businesses')\n",
    "tab.set_title(1, 'HOLC Breakdown')\n",
    "#display(tab)\n",
    "\n",
    "dashboard = widgets.VBox([input_widgets, tab])\n",
    "display(dashboard)"
   ]
  },
  {
   "cell_type": "code",
   "execution_count": null,
   "metadata": {},
   "outputs": [],
   "source": []
  }
 ],
 "metadata": {
  "kernelspec": {
   "display_name": "Python 3",
   "language": "python",
   "name": "python3"
  },
  "language_info": {
   "codemirror_mode": {
    "name": "ipython",
    "version": 3
   },
   "file_extension": ".py",
   "mimetype": "text/x-python",
   "name": "python",
   "nbconvert_exporter": "python",
   "pygments_lexer": "ipython3",
   "version": "3.6.7"
  }
 },
 "nbformat": 4,
 "nbformat_minor": 2
}
